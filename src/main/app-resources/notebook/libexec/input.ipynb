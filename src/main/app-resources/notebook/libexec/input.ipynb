{
 "cells": [
  {
   "cell_type": "markdown",
   "metadata": {},
   "source": [
    "## Sentinel-2 vegetation mask based on NDVI and BSI"
   ]
  },
  {
   "cell_type": "markdown",
   "metadata": {},
   "source": [
    "### Service Definition"
   ]
  },
  {
   "cell_type": "markdown",
   "metadata": {},
   "source": [
    "This service among other informations, generates *NDVI Values* and *BSI Values*"
   ]
  },
  {
   "cell_type": "code",
   "execution_count": 80,
   "metadata": {
    "collapsed": true
   },
   "outputs": [],
   "source": [
    "service = dict([('title', 'Sentinel-2 vegetation mask based on NDVI and BSI'),\n",
    "                ('abstract', 'Sentinel-2 vegetation mask based on NDVI and BSI'),\n",
    "                ('id', 'ewf-s2-vegetation-mask')])"
   ]
  },
  {
   "cell_type": "markdown",
   "metadata": {},
   "source": [
    "### Parameter Definition"
   ]
  },
  {
   "cell_type": "code",
   "execution_count": 4,
   "metadata": {},
   "outputs": [],
   "source": [
    "ndvi_threshold = dict([('id', 'ndvi_threshold'),\n",
    "                   ('value', '0.3'),\n",
    "                   ('title', 'NDVI threshold for the mask expression'),\n",
    "                   ('abstract', 'NDVI threshold for the mask expression'),\n",
    "                   ('maxOccurs', '1')])"
   ]
  },
  {
   "cell_type": "code",
   "execution_count": 5,
   "metadata": {},
   "outputs": [],
   "source": [
    "bsi_threshold = dict([('id', 'bsi_threshold'),\n",
    "                   ('value', '0'),\n",
    "                   ('title', 'BSI threshold'),\n",
    "                   ('abstract', 'BSI threshold'),\n",
    "                   ('maxOccurs', '1')])"
   ]
  },
  {
   "cell_type": "code",
   "execution_count": 6,
   "metadata": {},
   "outputs": [],
   "source": [
    "aoi = dict([('id', 'aoi'),\n",
    "              ('title', 'Area of interest'),\n",
    "              ('abstract', 'Area of interest'),\n",
    "              ('value', '')])"
   ]
  },
  {
   "cell_type": "code",
   "execution_count": 7,
   "metadata": {},
   "outputs": [],
   "source": [
    "username = dict([('id', '_T2Username'),\n",
    "              ('title', 'Ellip username'),\n",
    "              ('abstract', 'Ellip username'),\n",
    "              ('value', '')])"
   ]
  },
  {
   "cell_type": "code",
   "execution_count": 8,
   "metadata": {},
   "outputs": [],
   "source": [
    "api_key = dict([('id', '_T2ApiKey'),\n",
    "              ('title', 'Ellip API key for data pipeline'),\n",
    "              ('abstract', 'Ellip API key for data pipeline'),\n",
    "              ('value', '')])"
   ]
  },
  {
   "cell_type": "markdown",
   "metadata": {},
   "source": [
    "### <a name=\"runtime\">Runtime parameter definition"
   ]
  },
  {
   "cell_type": "markdown",
   "metadata": {},
   "source": [
    "**Input reference**\n",
    "\n",
    "This is the Sentinel-2 catalogue entry URLs"
   ]
  },
  {
   "cell_type": "code",
   "execution_count": 9,
   "metadata": {},
   "outputs": [],
   "source": [
    "input_references = []"
   ]
  },
  {
   "cell_type": "markdown",
   "metadata": {},
   "source": [
    "### Workflow"
   ]
  },
  {
   "cell_type": "markdown",
   "metadata": {},
   "source": [
    "#### Import the packages required for processing the data"
   ]
  },
  {
   "cell_type": "code",
   "execution_count": 38,
   "metadata": {
    "collapsed": true
   },
   "outputs": [
    {
     "name": "stdout",
     "output_type": "stream",
     "text": [
      "The autoreload extension is already loaded. To reload it, use:\n",
      "  %reload_ext autoreload\n"
     ]
    }
   ],
   "source": [
    "import os\n",
    "import sys\n",
    "\n",
    "sys.path.append('/application/notebook/libexec/') \n",
    "sys.path.append(os.getcwd())\n",
    "from helpers import *\n",
    "%load_ext autoreload\n",
    "%autoreload 2\n",
    "\n",
    "\n",
    "sys.path.append('/opt/OTB/lib/python')\n",
    "sys.path.append('/opt/OTB/lib/libfftw3.so.3')\n",
    "os.environ['OTB_APPLICATION_PATH'] = '/opt/OTB/lib/otb/applications'\n",
    "os.environ['LD_LIBRARY_PATH'] = '/opt/OTB/lib'\n",
    "os.environ['ITK_AUTOLOAD_PATH'] = '/opt/OTB/lib/otb/applications'\n",
    "os.environ['GDAL_DATA'] = '/opt/anaconda/share/gdal/'\n",
    "import otbApplication\n",
    "import gdal\n",
    "\n",
    "gdal.UseExceptions()"
   ]
  },
  {
   "cell_type": "code",
   "execution_count": 11,
   "metadata": {},
   "outputs": [],
   "source": [
    "product_metadata = get_product_metadata(input_references, \n",
    "                                        username['value'],\n",
    "                                        api_key['value'])"
   ]
  },
  {
   "cell_type": "code",
   "execution_count": 12,
   "metadata": {},
   "outputs": [
    {
     "data": {
      "text/html": [
       "<div>\n",
       "<style scoped>\n",
       "    .dataframe tbody tr th:only-of-type {\n",
       "        vertical-align: middle;\n",
       "    }\n",
       "\n",
       "    .dataframe tbody tr th {\n",
       "        vertical-align: top;\n",
       "    }\n",
       "\n",
       "    .dataframe thead th {\n",
       "        text-align: right;\n",
       "    }\n",
       "</style>\n",
       "<table border=\"1\" class=\"dataframe\">\n",
       "  <thead>\n",
       "    <tr style=\"text-align: right;\">\n",
       "      <th></th>\n",
       "      <th>cc</th>\n",
       "      <th>enclosure</th>\n",
       "      <th>enddate</th>\n",
       "      <th>identifier</th>\n",
       "      <th>platform</th>\n",
       "      <th>self</th>\n",
       "      <th>startdate</th>\n",
       "      <th>track</th>\n",
       "      <th>wkt</th>\n",
       "      <th>geometry</th>\n",
       "    </tr>\n",
       "  </thead>\n",
       "  <tbody>\n",
       "    <tr>\n",
       "      <th>0</th>\n",
       "      <td>6.439197</td>\n",
       "      <td>https://store.terradue.com/ard-s2-boa-reflecta...</td>\n",
       "      <td>2018-08-13 14:57:19.024</td>\n",
       "      <td>71BB2847F91DABBA3EDD61668761DF53FA2080BF</td>\n",
       "      <td>S2B</td>\n",
       "      <td>https://catalog.terradue.com/ard-s2-boa-reflec...</td>\n",
       "      <td>2018-08-13 14:57:19.024</td>\n",
       "      <td>039</td>\n",
       "      <td>POLYGON((-69.9212607569422 -13.6568683838856,-...</td>\n",
       "      <td>POLYGON ((-69.9212607569422 -13.6568683838856,...</td>\n",
       "    </tr>\n",
       "    <tr>\n",
       "      <th>1</th>\n",
       "      <td>1.036652</td>\n",
       "      <td>https://store.terradue.com/ard-s2-boa-reflecta...</td>\n",
       "      <td>2018-08-13 14:57:19.024</td>\n",
       "      <td>8478474798720351C60716A682EBA53EA6A6A8E9</td>\n",
       "      <td>S2B</td>\n",
       "      <td>https://catalog.terradue.com/ard-s2-boa-reflec...</td>\n",
       "      <td>2018-08-13 14:57:19.024</td>\n",
       "      <td>039</td>\n",
       "      <td>POLYGON((-70.835297389016 -12.7511412207275,-6...</td>\n",
       "      <td>POLYGON ((-70.83529738901601 -12.7511412207275...</td>\n",
       "    </tr>\n",
       "    <tr>\n",
       "      <th>2</th>\n",
       "      <td>0.099581</td>\n",
       "      <td>https://store.terradue.com/ard-s2-boa-reflecta...</td>\n",
       "      <td>2018-08-13 14:57:19.024</td>\n",
       "      <td>CF8EF52646BB41EF2EDE66D2E2AB8AD9320CB400</td>\n",
       "      <td>S2B</td>\n",
       "      <td>https://catalog.terradue.com/ard-s2-boa-reflec...</td>\n",
       "      <td>2018-08-13 14:57:19.024</td>\n",
       "      <td>039</td>\n",
       "      <td>POLYGON((-69.9181391041721 -12.7524314684136,-...</td>\n",
       "      <td>POLYGON ((-69.9181391041721 -12.7524314684136,...</td>\n",
       "    </tr>\n",
       "    <tr>\n",
       "      <th>3</th>\n",
       "      <td>15.017480</td>\n",
       "      <td>https://store.terradue.com/ard-s2-boa-reflecta...</td>\n",
       "      <td>2018-08-13 14:57:19.024</td>\n",
       "      <td>D3B736734067194663D8A82446273A9A9FA3557C</td>\n",
       "      <td>S2B</td>\n",
       "      <td>https://catalog.terradue.com/ard-s2-boa-reflec...</td>\n",
       "      <td>2018-08-13 14:57:19.024</td>\n",
       "      <td>039</td>\n",
       "      <td>POLYGON((-70.8415341437528 -13.6554833185667,-...</td>\n",
       "      <td>POLYGON ((-70.8415341437528 -13.6554833185667,...</td>\n",
       "    </tr>\n",
       "    <tr>\n",
       "      <th>4</th>\n",
       "      <td>1.339872</td>\n",
       "      <td>https://store.terradue.com/ard-s2-boa-reflecta...</td>\n",
       "      <td>2018-08-10 14:47:29.024</td>\n",
       "      <td>5CC8B39C8B44649589DAF902DA35C40153050D24</td>\n",
       "      <td>S2B</td>\n",
       "      <td>https://catalog.terradue.com/ard-s2-boa-reflec...</td>\n",
       "      <td>2018-08-10 14:47:29.024</td>\n",
       "      <td>139</td>\n",
       "      <td>POLYGON((-69.9181391041721 -12.7524314684136,-...</td>\n",
       "      <td>POLYGON ((-69.9181391041721 -12.7524314684136,...</td>\n",
       "    </tr>\n",
       "    <tr>\n",
       "      <th>5</th>\n",
       "      <td>12.614442</td>\n",
       "      <td>https://store.terradue.com/ard-s2-boa-reflecta...</td>\n",
       "      <td>2018-08-10 14:47:29.024</td>\n",
       "      <td>B9D901D6B238C568B149D4884DB431F87A1FE810</td>\n",
       "      <td>S2B</td>\n",
       "      <td>https://catalog.terradue.com/ard-s2-boa-reflec...</td>\n",
       "      <td>2018-08-10 14:47:29.024</td>\n",
       "      <td>139</td>\n",
       "      <td>POLYGON((-69.9212607569422 -13.6568683838856,-...</td>\n",
       "      <td>POLYGON ((-69.9212607569422 -13.6568683838856,...</td>\n",
       "    </tr>\n",
       "  </tbody>\n",
       "</table>\n",
       "</div>"
      ],
      "text/plain": [
       "          cc                                          enclosure  \\\n",
       "0   6.439197  https://store.terradue.com/ard-s2-boa-reflecta...   \n",
       "1   1.036652  https://store.terradue.com/ard-s2-boa-reflecta...   \n",
       "2   0.099581  https://store.terradue.com/ard-s2-boa-reflecta...   \n",
       "3  15.017480  https://store.terradue.com/ard-s2-boa-reflecta...   \n",
       "4   1.339872  https://store.terradue.com/ard-s2-boa-reflecta...   \n",
       "5  12.614442  https://store.terradue.com/ard-s2-boa-reflecta...   \n",
       "\n",
       "                  enddate                                identifier platform  \\\n",
       "0 2018-08-13 14:57:19.024  71BB2847F91DABBA3EDD61668761DF53FA2080BF      S2B   \n",
       "1 2018-08-13 14:57:19.024  8478474798720351C60716A682EBA53EA6A6A8E9      S2B   \n",
       "2 2018-08-13 14:57:19.024  CF8EF52646BB41EF2EDE66D2E2AB8AD9320CB400      S2B   \n",
       "3 2018-08-13 14:57:19.024  D3B736734067194663D8A82446273A9A9FA3557C      S2B   \n",
       "4 2018-08-10 14:47:29.024  5CC8B39C8B44649589DAF902DA35C40153050D24      S2B   \n",
       "5 2018-08-10 14:47:29.024  B9D901D6B238C568B149D4884DB431F87A1FE810      S2B   \n",
       "\n",
       "                                                self               startdate  \\\n",
       "0  https://catalog.terradue.com/ard-s2-boa-reflec... 2018-08-13 14:57:19.024   \n",
       "1  https://catalog.terradue.com/ard-s2-boa-reflec... 2018-08-13 14:57:19.024   \n",
       "2  https://catalog.terradue.com/ard-s2-boa-reflec... 2018-08-13 14:57:19.024   \n",
       "3  https://catalog.terradue.com/ard-s2-boa-reflec... 2018-08-13 14:57:19.024   \n",
       "4  https://catalog.terradue.com/ard-s2-boa-reflec... 2018-08-10 14:47:29.024   \n",
       "5  https://catalog.terradue.com/ard-s2-boa-reflec... 2018-08-10 14:47:29.024   \n",
       "\n",
       "  track                                                wkt  \\\n",
       "0   039  POLYGON((-69.9212607569422 -13.6568683838856,-...   \n",
       "1   039  POLYGON((-70.835297389016 -12.7511412207275,-6...   \n",
       "2   039  POLYGON((-69.9181391041721 -12.7524314684136,-...   \n",
       "3   039  POLYGON((-70.8415341437528 -13.6554833185667,-...   \n",
       "4   139  POLYGON((-69.9181391041721 -12.7524314684136,-...   \n",
       "5   139  POLYGON((-69.9212607569422 -13.6568683838856,-...   \n",
       "\n",
       "                                            geometry  \n",
       "0  POLYGON ((-69.9212607569422 -13.6568683838856,...  \n",
       "1  POLYGON ((-70.83529738901601 -12.7511412207275...  \n",
       "2  POLYGON ((-69.9181391041721 -12.7524314684136,...  \n",
       "3  POLYGON ((-70.8415341437528 -13.6554833185667,...  \n",
       "4  POLYGON ((-69.9181391041721 -12.7524314684136,...  \n",
       "5  POLYGON ((-69.9212607569422 -13.6568683838856,...  "
      ]
     },
     "execution_count": 12,
     "metadata": {},
     "output_type": "execute_result"
    }
   ],
   "source": [
    "product_metadata"
   ]
  },
  {
   "cell_type": "code",
   "execution_count": 13,
   "metadata": {},
   "outputs": [],
   "source": [
    "min_date = min(product_metadata['startdate'])\n",
    "max_date = max(product_metadata['enddate'])"
   ]
  },
  {
   "cell_type": "markdown",
   "metadata": {},
   "source": [
    "#### Area of interest"
   ]
  },
  {
   "cell_type": "code",
   "execution_count": 14,
   "metadata": {},
   "outputs": [],
   "source": [
    "x_min, y_min, x_max, y_max = [float(c) for c in aoi['value'].split(',')]"
   ]
  },
  {
   "cell_type": "markdown",
   "metadata": {},
   "source": [
    "#### Input vsi URLs\n",
    "\n",
    "Use the Sentinel-2 ARD using GDAL Virtual File System"
   ]
  },
  {
   "cell_type": "code",
   "execution_count": 15,
   "metadata": {},
   "outputs": [
    {
     "name": "stdout",
     "output_type": "stream",
     "text": [
      "039\n",
      "['https://catalog.terradue.com/ard-s2-boa-reflectances/search?format=atom&uid=71BB2847F91DABBA3EDD61668761DF53FA2080BF', 'https://catalog.terradue.com/ard-s2-boa-reflectances/search?format=atom&uid=8478474798720351C60716A682EBA53EA6A6A8E9', 'https://catalog.terradue.com/ard-s2-boa-reflectances/search?format=atom&uid=CF8EF52646BB41EF2EDE66D2E2AB8AD9320CB400', 'https://catalog.terradue.com/ard-s2-boa-reflectances/search?format=atom&uid=D3B736734067194663D8A82446273A9A9FA3557C']\n",
      "1 B01\n",
      "2 B02\n",
      "3 B03\n",
      "4 B04\n",
      "5 B05\n",
      "6 B06\n",
      "7 B07\n",
      "8 B08\n",
      "9 B8A\n",
      "10 B09\n",
      "11 B11\n",
      "12 B12\n",
      "13 SCL\n",
      "14 MSK_CLDPRB\n",
      "15 MSK_SNWPRB\n",
      "139\n",
      "['https://catalog.terradue.com/ard-s2-boa-reflectances/search?format=atom&uid=5CC8B39C8B44649589DAF902DA35C40153050D24', 'https://catalog.terradue.com/ard-s2-boa-reflectances/search?format=atom&uid=B9D901D6B238C568B149D4884DB431F87A1FE810']\n",
      "1 B01\n",
      "2 B02\n",
      "3 B03\n",
      "4 B04\n",
      "5 B05\n",
      "6 B06\n",
      "7 B07\n",
      "8 B08\n",
      "9 B8A\n",
      "10 B09\n",
      "11 B11\n",
      "12 B12\n",
      "13 SCL\n",
      "14 MSK_CLDPRB\n",
      "15 MSK_SNWPRB\n"
     ]
    }
   ],
   "source": [
    "daily_products = []\n",
    "\n",
    "for track in product_metadata.track.unique():\n",
    "\n",
    "    print(track)\n",
    "    input_references = list(product_metadata[product_metadata.track == track].self.values)\n",
    "    \n",
    "    print(input_references)\n",
    "\n",
    "    output_name = str(track)\n",
    "    \n",
    "    pre_proces(input_references, \n",
    "               [x_min, y_min, x_max, y_max],\n",
    "               ndvi_threshold['value'],\n",
    "               bsi_threshold['value'], \n",
    "               output_name, \n",
    "               username['value'], \n",
    "               api_key['value'])\n",
    "    \n",
    "    daily_products.append(output_name)"
   ]
  },
  {
   "cell_type": "code",
   "execution_count": 69,
   "metadata": {},
   "outputs": [
    {
     "name": "stdout",
     "output_type": "stream",
     "text": [
      "(im1b1 == 128 && im2b1 == 128) ? 128 : (im1b1 == 10 || im2b1 == 10) ? 10 : (im1b1 == 20 || im2b1 == 20) ? 20 : 255\n",
      "VEGETATION_MASK_20180810T140829_20180813T140819.tif\n",
      "['0_039.tif', '0_139.tif']\n",
      "(im1b1 == 128 && im2b1 == 128) ? 128 : (im1b1 >= -1 && im1b1 <= 1) ? im1b1 : (im2b1 >= -1 && im2b1 <= 1) ? im2b1 : 255\n",
      "BSI_VALUES_20180810T140829_20180813T140819.tif\n",
      "['1_039.tif', '1_139.tif']\n",
      "(im1b1 == 128 && im2b1 == 128) ? 128 : (im1b1 == 0 || im2b1 == 0) ? 0 : 255\n",
      "BSI_MASK_20180810T140829_20180813T140819.tif\n",
      "['2_039.tif', '2_139.tif']\n",
      "(im1b1 == 128 && im2b1 == 128) ? 128 : (im1b1 >= -1 && im1b1 <= 1) ? im1b1 : (im2b1 >= -1 && im2b1 <= 1) ? im2b1 : 255\n",
      "NDVI_VALUES_20180810T140829_20180813T140819.tif\n",
      "['3_039.tif', '3_139.tif']\n",
      "(im1b1 == 128 && im2b1 == 128) ? 128 : (im1b1 == 0 || im2b1 == 0) ? 0 : 255\n",
      "NDVI_MASK_20180810T140829_20180813T140819.tif\n",
      "['4_039.tif', '4_139.tif']\n",
      "(im1b1 == 128 && im2b1 == 128) ? 128 : (im1b1 == 0 || im2b1 == 0) ? 0 : 255\n",
      "MASK_20180810T140829_20180813T140819.tif\n",
      "['5_039.tif', '5_139.tif']\n"
     ]
    }
   ],
   "source": [
    "\n",
    "prefix = ['VEGETATION_MASK',\n",
    "                  'BSI_VALUES',\n",
    "                  'BSI_MASK',\n",
    "                  'NDVI_VALUES',\n",
    "                  'NDVI_MASK',\n",
    "                  'MASK']\n",
    "temp_files=[]\n",
    "date_format = '%Y%m%dT%H%m%S'\n",
    "\n",
    "for index in range(len(prefix)):\n",
    "\n",
    "    \n",
    "    if prefix[index] in ['NDVI_VALUES','BSI_VALUES']:\n",
    "        expression = get_mosaic_expressionx(128, len(product_metadata.track.unique()))\n",
    "    else:\n",
    "            \n",
    "        expression = get_mask_expressionx(128, len(product_metadata.track.unique()),\n",
    "                                          [10, 20] if prefix[index]=='VEGETATION_MASK' else [0])\n",
    "    \n",
    "    print expression\n",
    "    \n",
    "    \n",
    "    output_name = '{0}_{1}_{2}.tif'.format(prefix[index], \n",
    "                                           min_date.strftime(date_format),\n",
    "                                           max_date.strftime(date_format))\n",
    "    \n",
    "    daily_products = ['{}_{}.tif'.format(index, track) for track in product_metadata.track.unique()] \n",
    "    \n",
    "    \n",
    "    print output_name\n",
    "    print daily_products\n",
    "    \n",
    "    \n",
    "    BandMathX = otbApplication.Registry.CreateApplication('BandMathX')\n",
    "\n",
    "    BandMathX.SetParameterStringList('il', daily_products)\n",
    "    BandMathX.SetParameterString('out', 'temp_{0}'.format(output_name))\n",
    "    BandMathX.SetParameterString('exp', expression)\n",
    "    BandMathX.SetParameterOutputImagePixelType('out', \n",
    "                                               otbApplication.ImagePixelType_double if prefix[index] in ['NDVI_VALUES','BSI_VALUES'] else otbApplication.ImagePixelType_uint8)\n",
    "\n",
    "    BandMathX.ExecuteAndWriteOutput()\n",
    "    \n",
    "    temp_files.append('temp_{0}'.format(output_name))\n",
    "    \n",
    "#Remove temporary files\n",
    "    for prd in daily_products:\n",
    "        os.remove(prd)\n",
    "        os.remove(prd + '.aux.xml')\n",
    "    \n",
    "    \n",
    "\n",
    "\n",
    "\n",
    "output_name='VEGETATION_MASK_BSI_NDVI-{0}-{1}.tif'. format(min_date.strftime(date_format),\n",
    "                                           max_date.strftime(date_format))\n",
    "#Merge the files together\n",
    "merge_expressions = ['im{}b1'.format(index+1) for index in range(len(temp_files))]\n",
    "merge = otbApplication.Registry.CreateApplication('BandMathX')\n",
    "\n",
    "merge.SetParameterStringList('il', temp_files)\n",
    "merge.SetParameterString('out', 'temp_{0}'.format(output_name))\n",
    "merge.SetParameterString('exp',';'.join(merge_expressions))\n",
    "merge.ExecuteAndWriteOutput()\n",
    "    \n",
    "\n",
    "\n",
    "cog('temp_{0}'.format(output_name),\n",
    "        output_name)\n",
    "\n",
    "\n",
    "\n",
    "date_format = '%Y-%m-%dT%H:%m:%SZ'    \n",
    "with open(output_name.replace('.tif', '.properties'), 'wb') as file:\n",
    "        \n",
    "        file.write('title=GEOTIFF Vegetation Mask {0} {1} \\n'.format(min_date.strftime(date_format),\n",
    "                                           max_date.strftime(date_format)))\n",
    "        file.write('date={0}/{1}\\n'.format(min_date.strftime(date_format),\n",
    "                                           max_date.strftime(date_format)))\n",
    "        file.write('description={0} contains 6 bands:VEGETATION_MASK,BSI_VALUES,BSI_MASK,NDVI_VALUES,NDVI_MASK,MASK,\\n'.format(output_name))\n",
    "        \n",
    "        file.write('geometry={0}'.format(get_image_wkt(output_name)))\n",
    "#Remove temporary files        \n",
    "for prd in temp_files:\n",
    "    os.remove(prd)"
   ]
  },
  {
   "cell_type": "markdown",
   "metadata": {},
   "source": [
    "### Previous output "
   ]
  },
  {
   "cell_type": "markdown",
   "metadata": {},
   "source": [
    "### License"
   ]
  },
  {
   "cell_type": "markdown",
   "metadata": {},
   "source": [
    "This work is licenced under a [Attribution-ShareAlike 4.0 International License (CC BY-SA 4.0)](http://creativecommons.org/licenses/by-sa/4.0/) \n",
    "\n",
    "YOU ARE FREE TO:\n",
    "\n",
    "* Share - copy and redistribute the material in any medium or format.\n",
    "* Adapt - remix, transform, and built upon the material for any purpose, even commercially.\n",
    "\n",
    "UNDER THE FOLLOWING TERMS:\n",
    "\n",
    "* Attribution - You must give appropriate credit, provide a link to the license, and indicate if changes were made. You may do so in any reasonable manner, but not in any way that suggests the licensor endorses you or your use.\n",
    "* ShareAlike - If you remix, transform, or build upon the material, you must distribute your contributions under the same license as the original."
   ]
  },
  {
   "cell_type": "markdown",
   "metadata": {},
   "source": [
    "### License"
   ]
  },
  {
   "cell_type": "markdown",
   "metadata": {},
   "source": [
    "This work is licenced under a [Attribution-ShareAlike 4.0 International License (CC BY-SA 4.0)](http://creativecommons.org/licenses/by-sa/4.0/) \n",
    "\n",
    "YOU ARE FREE TO:\n",
    "\n",
    "* Share - copy and redistribute the material in any medium or format.\n",
    "* Adapt - remix, transform, and built upon the material for any purpose, even commercially.\n",
    "\n",
    "UNDER THE FOLLOWING TERMS:\n",
    "\n",
    "* Attribution - You must give appropriate credit, provide a link to the license, and indicate if changes were made. You may do so in any reasonable manner, but not in any way that suggests the licensor endorses you or your use.\n",
    "* ShareAlike - If you remix, transform, or build upon the material, you must distribute your contributions under the same license as the original."
   ]
  },
  {
   "cell_type": "code",
   "execution_count": null,
   "metadata": {},
   "outputs": [],
   "source": []
  }
 ],
 "metadata": {
  "kernelspec": {
   "display_name": "Python 2",
   "language": "python",
   "name": "python2"
  },
  "language_info": {
   "codemirror_mode": {
    "name": "ipython",
    "version": 2
   },
   "file_extension": ".py",
   "mimetype": "text/x-python",
   "name": "python",
   "nbconvert_exporter": "python",
   "pygments_lexer": "ipython2",
   "version": "2.7.12"
  }
 },
 "nbformat": 4,
 "nbformat_minor": 2
}
