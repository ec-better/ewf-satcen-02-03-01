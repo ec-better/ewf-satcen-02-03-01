{
 "cells": [
  {
   "cell_type": "markdown",
   "metadata": {},
   "source": [
    "## Sentinel-2 vegetation mask based on NDVI and BSI"
   ]
  },
  {
   "cell_type": "markdown",
   "metadata": {},
   "source": [
    "### Service Definition"
   ]
  },
  {
   "cell_type": "code",
   "execution_count": 1,
   "metadata": {
    "collapsed": true
   },
   "outputs": [],
   "source": [
    "service = dict([('title', 'Sentinel-2 vegetation mask based on NDVI and BSI'),\n",
    "                ('abstract', 'Sentinel-2 vegetation mask based on NDVI and BSI'),\n",
    "                ('id', 'ewf-s2-vegetation-mask')])"
   ]
  },
  {
   "cell_type": "markdown",
   "metadata": {},
   "source": [
    "**Number of classes**\n",
    "\n",
    "Number of modes, which will be used to generate class membership"
   ]
  },
  {
   "cell_type": "code",
   "execution_count": 2,
   "metadata": {
    "collapsed": false
   },
   "outputs": [],
   "source": [
    "n_classes = dict([('id', 'n_classes'),\n",
    "                  ('value', '1=-1|0,2=0|0.1,3=0.1|0.2,4=0.2|1'),\n",
    "                  ('title', 'Classes and ranges for NDVI'),\n",
    "                  ('abstract', 'Classes and ranges for NDVI (class_1=min|max,class_2=min|max)'),\n",
    "                  ('maxOccurs', '20')])"
   ]
  },
  {
   "cell_type": "code",
   "execution_count": 3,
   "metadata": {},
   "outputs": [],
   "source": [
    "b_classes = dict([('id', 'b_classes'),\n",
    "                  ('value', '1=-1|-0.2,2=-0.2|0.1,3=0.1|0.2,4=0.2|1'),\n",
    "                  ('title', 'Classes and ranges for BSI'),\n",
    "                  ('abstract', 'Classes and ranges for BSI (class_1=min|max,class_2=min|max)'),\n",
    "                  ('maxOccurs', '20')])"
   ]
  },
  {
   "cell_type": "code",
   "execution_count": 4,
   "metadata": {},
   "outputs": [],
   "source": [
    "ndvi_threshold = dict([('id', 'ndvi_threshold'),\n",
    "                   ('value', '0.3'),\n",
    "                   ('title', 'NDVI threshold for the mask expression'),\n",
    "                   ('abstract', 'NDVI threshold for the mask expression'),\n",
    "                   ('maxOccurs', '1')])"
   ]
  },
  {
   "cell_type": "code",
   "execution_count": 5,
   "metadata": {},
   "outputs": [],
   "source": [
    "bsi_threshold = dict([('id', 'bsi_threshold'),\n",
    "                   ('value', '0'),\n",
    "                   ('title', 'BSI threshold'),\n",
    "                   ('abstract', 'BSI threshold'),\n",
    "                   ('maxOccurs', '1')])"
   ]
  },
  {
   "cell_type": "code",
   "execution_count": 6,
   "metadata": {},
   "outputs": [],
   "source": [
    "aoi = dict([('id', 'aoi'),\n",
    "              ('title', 'Area of interest'),\n",
    "              ('abstract', 'Area of interest'),\n",
    "              ('value', '-70.5659,-13.0922,-69.1411,-12.4567')])"
   ]
  },
  {
   "cell_type": "code",
   "execution_count": 7,
   "metadata": {},
   "outputs": [],
   "source": [
    "username = dict([('id', 'username'),\n",
    "              ('title', 'Ellip username'),\n",
    "              ('abstract', 'Ellip username'),\n",
    "              ('value', '')])"
   ]
  },
  {
   "cell_type": "code",
   "execution_count": 8,
   "metadata": {},
   "outputs": [],
   "source": [
    "api_key = dict([('id', 'api_key'),\n",
    "              ('title', 'Ellip API key for data pipeline'),\n",
    "              ('abstract', 'Ellip API key for data pipeline'),\n",
    "              ('value', '')])"
   ]
  },
  {
   "cell_type": "markdown",
   "metadata": {},
   "source": [
    "### <a name=\"runtime\">Runtime parameter definition"
   ]
  },
  {
   "cell_type": "markdown",
   "metadata": {},
   "source": [
    "**Input reference**\n",
    "\n",
    "This is the Sentinel-2 catalogue entry URLs"
   ]
  },
  {
   "cell_type": "code",
   "execution_count": 9,
   "metadata": {},
   "outputs": [],
   "source": [
    "input_references = ['https://catalog.terradue.com/ard-s2-boa-reflectances/search?uid=6276B1444A67F9C3C38F330D8A09B3462FF1836A',\n",
    "                    'https://catalog.terradue.com/ard-s2-boa-reflectances/search?uid=D2CC3A1F5F9E61D22CDF7F7513A1A35E6AA76A0D',\n",
    "                    'https://catalog.terradue.com/ard-s2-boa-reflectances/search?uid=AB3807E0B5158644C1052951F109C717FC62D289',\n",
    "                    'https://catalog.terradue.com/ard-s2-boa-reflectances/search?uid=39BE1E4541AFD99D538E1FE32694E84B3E58FD7E']"
   ]
  },
  {
   "cell_type": "markdown",
   "metadata": {},
   "source": [
    "### Workflow"
   ]
  },
  {
   "cell_type": "markdown",
   "metadata": {},
   "source": [
    "#### Import the packages required for processing the data"
   ]
  },
  {
   "cell_type": "code",
   "execution_count": 10,
   "metadata": {
    "collapsed": true
   },
   "outputs": [],
   "source": [
    "import os\n",
    "import sys\n",
    "\n",
    "sys.path.append('/application/notebook/libexec/') \n",
    "sys.path.append(os.getcwd())\n",
    "from helpers import *\n",
    "%load_ext autoreload\n",
    "%autoreload 2\n",
    "\n",
    "\n",
    "sys.path.append('/opt/OTB/lib/python')\n",
    "sys.path.append('/opt/OTB/lib/libfftw3.so.3')\n",
    "os.environ['OTB_APPLICATION_PATH'] = '/opt/OTB/lib/otb/applications'\n",
    "os.environ['LD_LIBRARY_PATH'] = '/opt/OTB/lib'\n",
    "os.environ['ITK_AUTOLOAD_PATH'] = '/opt/OTB/lib/otb/applications'\n",
    "os.environ['GDAL_DATA'] = '/opt/anaconda/share/gdal/'\n",
    "import otbApplication"
   ]
  },
  {
   "cell_type": "code",
   "execution_count": 11,
   "metadata": {},
   "outputs": [],
   "source": [
    "product_metadata = get_product_metadata(input_references, \n",
    "                                        username['value'],\n",
    "                                        api_key['value'])"
   ]
  },
  {
   "cell_type": "code",
   "execution_count": 12,
   "metadata": {},
   "outputs": [
    {
     "data": {
      "text/html": [
       "<div>\n",
       "<style scoped>\n",
       "    .dataframe tbody tr th:only-of-type {\n",
       "        vertical-align: middle;\n",
       "    }\n",
       "\n",
       "    .dataframe tbody tr th {\n",
       "        vertical-align: top;\n",
       "    }\n",
       "\n",
       "    .dataframe thead th {\n",
       "        text-align: right;\n",
       "    }\n",
       "</style>\n",
       "<table border=\"1\" class=\"dataframe\">\n",
       "  <thead>\n",
       "    <tr style=\"text-align: right;\">\n",
       "      <th></th>\n",
       "      <th>cc</th>\n",
       "      <th>enclosure</th>\n",
       "      <th>enddate</th>\n",
       "      <th>identifier</th>\n",
       "      <th>platform</th>\n",
       "      <th>self</th>\n",
       "      <th>startdate</th>\n",
       "      <th>track</th>\n",
       "      <th>wkt</th>\n",
       "      <th>geometry</th>\n",
       "    </tr>\n",
       "  </thead>\n",
       "  <tbody>\n",
       "    <tr>\n",
       "      <th>0</th>\n",
       "      <td>17.598377</td>\n",
       "      <td>https://store.terradue.com/ard-s2-boa-reflecta...</td>\n",
       "      <td>2019-06-29 14:57:39.024</td>\n",
       "      <td>6276B1444A67F9C3C38F330D8A09B3462FF1836A</td>\n",
       "      <td>S2B</td>\n",
       "      <td>https://catalog.terradue.com/ard-s2-boa-reflec...</td>\n",
       "      <td>2019-06-29 14:57:39.024</td>\n",
       "      <td>39</td>\n",
       "      <td>POLYGON((-70.8415341437528 -13.6554833185667,-...</td>\n",
       "      <td>POLYGON ((-70.8415341437528 -13.6554833185667,...</td>\n",
       "    </tr>\n",
       "    <tr>\n",
       "      <th>1</th>\n",
       "      <td>0.309651</td>\n",
       "      <td>https://store.terradue.com/ard-s2-boa-reflecta...</td>\n",
       "      <td>2019-06-29 14:57:39.024</td>\n",
       "      <td>D2CC3A1F5F9E61D22CDF7F7513A1A35E6AA76A0D</td>\n",
       "      <td>S2B</td>\n",
       "      <td>https://catalog.terradue.com/ard-s2-boa-reflec...</td>\n",
       "      <td>2019-06-29 14:57:39.024</td>\n",
       "      <td>39</td>\n",
       "      <td>POLYGON((-69.9181391041721 -12.7524314684136,-...</td>\n",
       "      <td>POLYGON ((-69.9181391041721 -12.7524314684136,...</td>\n",
       "    </tr>\n",
       "    <tr>\n",
       "      <th>2</th>\n",
       "      <td>26.911520</td>\n",
       "      <td>https://store.terradue.com/ard-s2-boa-reflecta...</td>\n",
       "      <td>2019-06-29 14:57:39.024</td>\n",
       "      <td>AB3807E0B5158644C1052951F109C717FC62D289</td>\n",
       "      <td>S2B</td>\n",
       "      <td>https://catalog.terradue.com/ard-s2-boa-reflec...</td>\n",
       "      <td>2019-06-29 14:57:39.024</td>\n",
       "      <td>39</td>\n",
       "      <td>POLYGON((-69.9212607569422 -13.6568683838856,-...</td>\n",
       "      <td>POLYGON ((-69.9212607569422 -13.6568683838856,...</td>\n",
       "    </tr>\n",
       "    <tr>\n",
       "      <th>3</th>\n",
       "      <td>4.473067</td>\n",
       "      <td>https://store.terradue.com/ard-s2-boa-reflecta...</td>\n",
       "      <td>2019-06-29 14:57:39.024</td>\n",
       "      <td>39BE1E4541AFD99D538E1FE32694E84B3E58FD7E</td>\n",
       "      <td>S2B</td>\n",
       "      <td>https://catalog.terradue.com/ard-s2-boa-reflec...</td>\n",
       "      <td>2019-06-29 14:57:39.024</td>\n",
       "      <td>39</td>\n",
       "      <td>POLYGON((-70.835297389016 -12.7511412207275,-6...</td>\n",
       "      <td>POLYGON ((-70.83529738901601 -12.7511412207275...</td>\n",
       "    </tr>\n",
       "  </tbody>\n",
       "</table>\n",
       "</div>"
      ],
      "text/plain": [
       "          cc                                          enclosure  \\\n",
       "0  17.598377  https://store.terradue.com/ard-s2-boa-reflecta...   \n",
       "1   0.309651  https://store.terradue.com/ard-s2-boa-reflecta...   \n",
       "2  26.911520  https://store.terradue.com/ard-s2-boa-reflecta...   \n",
       "3   4.473067  https://store.terradue.com/ard-s2-boa-reflecta...   \n",
       "\n",
       "                  enddate                                identifier platform  \\\n",
       "0 2019-06-29 14:57:39.024  6276B1444A67F9C3C38F330D8A09B3462FF1836A      S2B   \n",
       "1 2019-06-29 14:57:39.024  D2CC3A1F5F9E61D22CDF7F7513A1A35E6AA76A0D      S2B   \n",
       "2 2019-06-29 14:57:39.024  AB3807E0B5158644C1052951F109C717FC62D289      S2B   \n",
       "3 2019-06-29 14:57:39.024  39BE1E4541AFD99D538E1FE32694E84B3E58FD7E      S2B   \n",
       "\n",
       "                                                self               startdate  \\\n",
       "0  https://catalog.terradue.com/ard-s2-boa-reflec... 2019-06-29 14:57:39.024   \n",
       "1  https://catalog.terradue.com/ard-s2-boa-reflec... 2019-06-29 14:57:39.024   \n",
       "2  https://catalog.terradue.com/ard-s2-boa-reflec... 2019-06-29 14:57:39.024   \n",
       "3  https://catalog.terradue.com/ard-s2-boa-reflec... 2019-06-29 14:57:39.024   \n",
       "\n",
       "  track                                                wkt  \\\n",
       "0    39  POLYGON((-70.8415341437528 -13.6554833185667,-...   \n",
       "1    39  POLYGON((-69.9181391041721 -12.7524314684136,-...   \n",
       "2    39  POLYGON((-69.9212607569422 -13.6568683838856,-...   \n",
       "3    39  POLYGON((-70.835297389016 -12.7511412207275,-6...   \n",
       "\n",
       "                                            geometry  \n",
       "0  POLYGON ((-70.8415341437528 -13.6554833185667,...  \n",
       "1  POLYGON ((-69.9181391041721 -12.7524314684136,...  \n",
       "2  POLYGON ((-69.9212607569422 -13.6568683838856,...  \n",
       "3  POLYGON ((-70.83529738901601 -12.7511412207275...  "
      ]
     },
     "execution_count": 12,
     "metadata": {},
     "output_type": "execute_result"
    }
   ],
   "source": [
    "product_metadata"
   ]
  },
  {
   "cell_type": "code",
   "execution_count": 13,
   "metadata": {},
   "outputs": [],
   "source": [
    "min_date = min(product_metadata['startdate'])\n",
    "max_date = max(product_metadata['enddate'])"
   ]
  },
  {
   "cell_type": "code",
   "execution_count": null,
   "metadata": {},
   "outputs": [],
   "source": []
  },
  {
   "cell_type": "markdown",
   "metadata": {},
   "source": [
    "#### Area of interest"
   ]
  },
  {
   "cell_type": "code",
   "execution_count": 14,
   "metadata": {},
   "outputs": [],
   "source": [
    "x_min, y_min, x_max, y_max = [float(c) for c in aoi['value'].split(',')]"
   ]
  },
  {
   "cell_type": "code",
   "execution_count": 15,
   "metadata": {},
   "outputs": [
    {
     "data": {
      "text/plain": [
       "(-70.5659, -13.0922, -69.1411, -12.4567)"
      ]
     },
     "execution_count": 15,
     "metadata": {},
     "output_type": "execute_result"
    }
   ],
   "source": [
    "x_min, y_min, x_max, y_max"
   ]
  },
  {
   "cell_type": "markdown",
   "metadata": {},
   "source": [
    "#### Input vsi URLs\n",
    "\n",
    "Use the Sentinel-2 ARD using GDAL Virtual File System"
   ]
  },
  {
   "cell_type": "code",
   "execution_count": 16,
   "metadata": {},
   "outputs": [],
   "source": [
    "vsi_list = [get_vsi_url(input_reference, \n",
    "                        username['value'],\n",
    "                        api_key['value']) for input_reference in input_references]"
   ]
  },
  {
   "cell_type": "markdown",
   "metadata": {},
   "source": [
    "Create a GDAL virtual dataset with the VSI URLs"
   ]
  },
  {
   "cell_type": "code",
   "execution_count": 17,
   "metadata": {},
   "outputs": [],
   "source": [
    "vrt_options = gdal.BuildVRTOptions()\n",
    "\n",
    "vrt = 'my.vrt'\n",
    "\n",
    "ds_vrt = gdal.BuildVRT(vrt, vsi_list, options=vrt_options)\n",
    "ds_vrt.FlushCache()"
   ]
  },
  {
   "cell_type": "code",
   "execution_count": 18,
   "metadata": {},
   "outputs": [
    {
     "name": "stdout",
     "output_type": "stream",
     "text": [
      "1 B01\n",
      "2 B02\n",
      "3 B03\n",
      "4 B04\n",
      "5 B05\n",
      "6 B06\n",
      "7 B07\n",
      "8 B08\n",
      "9 B8A\n",
      "10 B09\n",
      "11 B11\n",
      "12 B12\n",
      "13 SCL\n",
      "14 MSK_CLDPRB\n",
      "15 MSK_SNWPRB\n"
     ]
    }
   ],
   "source": [
    "src_ds = gdal.Open(get_vsi_url(input_references[0], \n",
    "                               username['value'],\n",
    "                               api_key['value']))\n",
    "\n",
    "ds_vrt = gdal.Open(vrt,  gdal.OF_UPDATE)\n",
    "\n",
    "for band in range(ds_vrt.RasterCount):\n",
    "    \n",
    "    band += 1\n",
    "    print band, src_ds.GetRasterBand(band).GetDescription()\n",
    "    \n",
    "    src_band = ds_vrt.GetRasterBand(band)\n",
    "    src_band.SetDescription(src_ds.GetRasterBand(band).GetDescription())  \n",
    "    \n",
    "ds_vrt.FlushCache()"
   ]
  },
  {
   "cell_type": "markdown",
   "metadata": {},
   "source": [
    "Create a new VRT with the Area of Interest (easier to do with gdal.Translate)"
   ]
  },
  {
   "cell_type": "code",
   "execution_count": 19,
   "metadata": {},
   "outputs": [
    {
     "data": {
      "text/plain": [
       "<osgeo.gdal.Dataset; proxy of <Swig Object of type 'GDALDatasetShadow *' at 0x7f4ac4d45150> >"
      ]
     },
     "execution_count": 19,
     "metadata": {},
     "output_type": "execute_result"
    }
   ],
   "source": [
    "clipped_vrt = 'clipped.vrt'\n",
    "\n",
    "gdal.Translate(clipped_vrt,\n",
    "               vrt,\n",
    "               projWin=[x_min, y_max, x_max, y_min],\n",
    "               projWinSRS='EPSG:4326',\n",
    "               format='VRT')"
   ]
  },
  {
   "cell_type": "markdown",
   "metadata": {},
   "source": [
    "#### Band expressions"
   ]
  },
  {
   "cell_type": "code",
   "execution_count": 20,
   "metadata": {},
   "outputs": [],
   "source": [
    "band_2 = 'im1b2'\n",
    "band_4 = 'im1b4'\n",
    "band_8 = 'im1b8'\n",
    "band_11 = 'im1b11'\n",
    "scl = 'im1b13'"
   ]
  },
  {
   "cell_type": "code",
   "execution_count": 21,
   "metadata": {},
   "outputs": [],
   "source": [
    "ndvi_expression = '({1}-{0})/({1}+{0})'.format(band_4, band_8)\n",
    "bsi_expression = '(({3}/{4}+{1}/{4})-({2}/{4}+{0}/{4}))/(({3}/{4}+{1}/{4})+({2}/{4}+{0}/{4}))'.format(band_2, band_4, band_8, band_11, '10000')\n",
    "invalid_expression = '{0} == 3 || {0} == 8 || {0} == 9'.format(scl) \n",
    "\n",
    "\n",
    "# if ndvi  >= 0.3 and bsi <= 0 then IS vegetation, otherwise no vegetation\n",
    "mask_expression = '{0} ? 128 : {1} >= {2} && {3} <= {4} ? 1 : 0'.format(invalid_expression,\n",
    "                                                                       ndvi_expression, \n",
    "                                                                        ndvi_threshold['value'],\n",
    "                                                                       bsi_expression,\n",
    "                                                                        bsi_threshold['value'])\n",
    "\n"
   ]
  },
  {
   "cell_type": "code",
   "execution_count": 22,
   "metadata": {},
   "outputs": [
    {
     "data": {
      "text/plain": [
       "('(im1b8-im1b4)/(im1b8+im1b4)',\n",
       " '((im1b11/10000+im1b4/10000)-(im1b8/10000+im1b2/10000))/((im1b11/10000+im1b4/10000)+(im1b8/10000+im1b2/10000))*10000',\n",
       " 'im1b13 == 3 || im1b13 == 8 || im1b13 == 9',\n",
       " 'im1b13 == 3 || im1b13 == 8 || im1b13 == 9 ? 128 : (im1b8-im1b4)/(im1b8+im1b4) >= 0.3 && ((im1b11/10000+im1b4/10000)-(im1b8/10000+im1b2/10000))/((im1b11/10000+im1b4/10000)+(im1b8/10000+im1b2/10000))*10000 <= 0 ? 1 : 0')"
      ]
     },
     "execution_count": 22,
     "metadata": {},
     "output_type": "execute_result"
    }
   ],
   "source": [
    "ndvi_expression, bsi_expression, invalid_expression, mask_expression\n"
   ]
  },
  {
   "cell_type": "markdown",
   "metadata": {},
   "source": [
    "**Vegetation index classes**"
   ]
  },
  {
   "cell_type": "code",
   "execution_count": 23,
   "metadata": {},
   "outputs": [],
   "source": [
    "ndvi_classes = dict((int(k.strip()), v.strip().replace('|', ',')) for k,v in  \n",
    "                             (item.split('=') for item in n_classes['value'].split(',')))\n",
    "\n",
    "\n",
    "bsi_classes = dict((int(k.strip()), v.strip().replace('|', ',')) for k,v in  \n",
    "                             (item.split('=') for item in b_classes['value'].split(',')))"
   ]
  },
  {
   "cell_type": "code",
   "execution_count": 24,
   "metadata": {},
   "outputs": [
    {
     "data": {
      "text/plain": [
       "({1: '-1,0', 2: '0,0.1', 3: '0.1,0.2', 4: '0.2,1'},\n",
       " {1: '-1,-0.2', 2: '-0.2,0.1', 3: '0.1,0.2', 4: '0.2,1'})"
      ]
     },
     "execution_count": 24,
     "metadata": {},
     "output_type": "execute_result"
    }
   ],
   "source": [
    "ndvi_classes, bsi_classes"
   ]
  },
  {
   "cell_type": "markdown",
   "metadata": {},
   "source": [
    "** All expressions **"
   ]
  },
  {
   "cell_type": "code",
   "execution_count": 25,
   "metadata": {},
   "outputs": [],
   "source": [
    "expressions = []\n",
    "\n",
    "invalid_data = 128\n",
    "\n",
    "for index, vi_class in enumerate([ndvi_classes, bsi_classes]):\n",
    "    \n",
    "    f = '{} ? {}'.format(invalid_expression, invalid_data)\n",
    "\n",
    "    for _class in vi_class.keys():\n",
    "\n",
    "        if index == 0: vi_expression = ndvi_expression\n",
    "        if index == 1: vi_expression = bsi_expression\n",
    "            \n",
    "        expression = '{0} >= {1} && {0} < {2} ? {3}'.format(vi_expression,\n",
    "                                                                vi_class[_class].split(',')[0],\n",
    "                                                                vi_class[_class].split(',')[1],\n",
    "                                                                _class)\n",
    "                   \n",
    "\n",
    "        f = '{} : {} '.format(f, expression)\n",
    "\n",
    "    f = '{}: {}'.format(f, 0)\n",
    "    \n",
    "    expressions.append(f)\n",
    "    \n",
    "expressions.append('{} ? {} : 0'.format(invalid_expression, invalid_data))\n",
    "\n",
    "expressions.append(mask_expression)"
   ]
  },
  {
   "cell_type": "code",
   "execution_count": 26,
   "metadata": {},
   "outputs": [
    {
     "data": {
      "text/plain": [
       "['im1b13 == 3 || im1b13 == 8 || im1b13 == 9 ? 128 : (im1b8-im1b4)/(im1b8+im1b4) >= -1 && (im1b8-im1b4)/(im1b8+im1b4) < 0 ? 1  : (im1b8-im1b4)/(im1b8+im1b4) >= 0 && (im1b8-im1b4)/(im1b8+im1b4) < 0.1 ? 2  : (im1b8-im1b4)/(im1b8+im1b4) >= 0.1 && (im1b8-im1b4)/(im1b8+im1b4) < 0.2 ? 3  : (im1b8-im1b4)/(im1b8+im1b4) >= 0.2 && (im1b8-im1b4)/(im1b8+im1b4) < 1 ? 4 : 0',\n",
       " 'im1b13 == 3 || im1b13 == 8 || im1b13 == 9 ? 128 : ((im1b11/10000+im1b4/10000)-(im1b8/10000+im1b2/10000))/((im1b11/10000+im1b4/10000)+(im1b8/10000+im1b2/10000))*10000 >= -1 && ((im1b11/10000+im1b4/10000)-(im1b8/10000+im1b2/10000))/((im1b11/10000+im1b4/10000)+(im1b8/10000+im1b2/10000))*10000 < -0.2 ? 1  : ((im1b11/10000+im1b4/10000)-(im1b8/10000+im1b2/10000))/((im1b11/10000+im1b4/10000)+(im1b8/10000+im1b2/10000))*10000 >= -0.2 && ((im1b11/10000+im1b4/10000)-(im1b8/10000+im1b2/10000))/((im1b11/10000+im1b4/10000)+(im1b8/10000+im1b2/10000))*10000 < 0.1 ? 2  : ((im1b11/10000+im1b4/10000)-(im1b8/10000+im1b2/10000))/((im1b11/10000+im1b4/10000)+(im1b8/10000+im1b2/10000))*10000 >= 0.1 && ((im1b11/10000+im1b4/10000)-(im1b8/10000+im1b2/10000))/((im1b11/10000+im1b4/10000)+(im1b8/10000+im1b2/10000))*10000 < 0.2 ? 3  : ((im1b11/10000+im1b4/10000)-(im1b8/10000+im1b2/10000))/((im1b11/10000+im1b4/10000)+(im1b8/10000+im1b2/10000))*10000 >= 0.2 && ((im1b11/10000+im1b4/10000)-(im1b8/10000+im1b2/10000))/((im1b11/10000+im1b4/10000)+(im1b8/10000+im1b2/10000))*10000 < 1 ? 4 : 0',\n",
       " 'im1b13 == 3 || im1b13 == 8 || im1b13 == 9 ? 128 : 0',\n",
       " 'im1b13 == 3 || im1b13 == 8 || im1b13 == 9 ? 128 : (im1b8-im1b4)/(im1b8+im1b4) >= 0.3 && ((im1b11/10000+im1b4/10000)-(im1b8/10000+im1b2/10000))/((im1b11/10000+im1b4/10000)+(im1b8/10000+im1b2/10000))*10000 <= 0 ? 1 : 0']"
      ]
     },
     "execution_count": 26,
     "metadata": {},
     "output_type": "execute_result"
    }
   ],
   "source": [
    "expressions"
   ]
  },
  {
   "cell_type": "markdown",
   "metadata": {},
   "source": [
    "Provide a meaningful output name for the result"
   ]
  },
  {
   "cell_type": "code",
   "execution_count": 27,
   "metadata": {},
   "outputs": [],
   "source": [
    "date_format = '%Y%m%dT%H%m%S'\n",
    "\n",
    "output_name = 'VEGETATION-MASK-{0}-{1}'.format(min_date.strftime(date_format), \n",
    "                                               max_date.strftime(date_format))"
   ]
  },
  {
   "cell_type": "markdown",
   "metadata": {},
   "source": [
    "Apply the Orfeo Toolbox BandMathX operator"
   ]
  },
  {
   "cell_type": "code",
   "execution_count": 28,
   "metadata": {},
   "outputs": [
    {
     "data": {
      "text/plain": [
       "0"
      ]
     },
     "execution_count": 28,
     "metadata": {},
     "output_type": "execute_result"
    }
   ],
   "source": [
    "BandMathX = otbApplication.Registry.CreateApplication('BandMathX')\n",
    "\n",
    "BandMathX.SetParameterStringList('il', [clipped_vrt])\n",
    "BandMathX.SetParameterString('out', 'temp_{0}.tif'.format(output_name))\n",
    "BandMathX.SetParameterString('exp', ';'.join(expressions))\n",
    "BandMathX.SetParameterOutputImagePixelType('out', otbApplication.ImagePixelType_uint8)\n",
    "\n",
    "BandMathX.ExecuteAndWriteOutput()"
   ]
  },
  {
   "cell_type": "code",
   "execution_count": 32,
   "metadata": {},
   "outputs": [
    {
     "data": {
      "text/plain": [
       "['im1b13 == 3 || im1b13 == 8 || im1b13 == 9 ? 128 : (im1b8-im1b4)/(im1b8+im1b4) >= -1 && (im1b8-im1b4)/(im1b8+im1b4) < 0 ? 1  : (im1b8-im1b4)/(im1b8+im1b4) >= 0 && (im1b8-im1b4)/(im1b8+im1b4) < 0.1 ? 2  : (im1b8-im1b4)/(im1b8+im1b4) >= 0.1 && (im1b8-im1b4)/(im1b8+im1b4) < 0.2 ? 3  : (im1b8-im1b4)/(im1b8+im1b4) >= 0.2 && (im1b8-im1b4)/(im1b8+im1b4) < 1 ? 4 : 0',\n",
       " 'im1b13 == 3 || im1b13 == 8 || im1b13 == 9 ? 128 : ((im1b11/10000+im1b4/10000)-(im1b8/10000+im1b2/10000))/((im1b11/10000+im1b4/10000)+(im1b8/10000+im1b2/10000))*10000 >= -1 && ((im1b11/10000+im1b4/10000)-(im1b8/10000+im1b2/10000))/((im1b11/10000+im1b4/10000)+(im1b8/10000+im1b2/10000))*10000 < -0.2 ? 1  : ((im1b11/10000+im1b4/10000)-(im1b8/10000+im1b2/10000))/((im1b11/10000+im1b4/10000)+(im1b8/10000+im1b2/10000))*10000 >= -0.2 && ((im1b11/10000+im1b4/10000)-(im1b8/10000+im1b2/10000))/((im1b11/10000+im1b4/10000)+(im1b8/10000+im1b2/10000))*10000 < 0.1 ? 2  : ((im1b11/10000+im1b4/10000)-(im1b8/10000+im1b2/10000))/((im1b11/10000+im1b4/10000)+(im1b8/10000+im1b2/10000))*10000 >= 0.1 && ((im1b11/10000+im1b4/10000)-(im1b8/10000+im1b2/10000))/((im1b11/10000+im1b4/10000)+(im1b8/10000+im1b2/10000))*10000 < 0.2 ? 3  : ((im1b11/10000+im1b4/10000)-(im1b8/10000+im1b2/10000))/((im1b11/10000+im1b4/10000)+(im1b8/10000+im1b2/10000))*10000 >= 0.2 && ((im1b11/10000+im1b4/10000)-(im1b8/10000+im1b2/10000))/((im1b11/10000+im1b4/10000)+(im1b8/10000+im1b2/10000))*10000 < 1 ? 4 : 0',\n",
       " 'im1b13 == 3 || im1b13 == 8 || im1b13 == 9 ? 128 : 0',\n",
       " 'im1b13 == 3 || im1b13 == 8 || im1b13 == 9 ? 128 : (im1b8-im1b4)/(im1b8+im1b4) >= 0.3 && ((im1b11/10000+im1b4/10000)-(im1b8/10000+im1b2/10000))/((im1b11/10000+im1b4/10000)+(im1b8/10000+im1b2/10000))*10000 <= 0 ? 1 : 0']"
      ]
     },
     "execution_count": 32,
     "metadata": {},
     "output_type": "execute_result"
    }
   ],
   "source": [
    "expressions"
   ]
  },
  {
   "cell_type": "code",
   "execution_count": 37,
   "metadata": {},
   "outputs": [],
   "source": [
    "band_names = ['ndvi_class',\n",
    "             'bsi_class',\n",
    "             'cloud_mask',\n",
    "             'vegetation_mask']\n",
    "\n",
    "metadata = dict()\n",
    "metadata['B02'] = 'im1b2'\n",
    "metadata['B04'] = 'im1b4'\n",
    "metadata['B08'] = 'im1b8'\n",
    "metadata['B11'] = 'im1b11'\n",
    "metadata['SCL'] = 'im1b13'\n",
    "\n",
    "\n",
    "ds_temp = gdal.Open('temp_{0}.tif'.format(output_name),  gdal.OF_UPDATE)\n",
    "\n",
    "for band_index in range(ds_temp.RasterCount):\n",
    "    \n",
    "\n",
    "    metadata['BAND_EXPRESSION'] = '({})'.format(expressions[band_index])\n",
    "    #print band, ds_temp.GetRasterBand(band).GetDescription()\n",
    "    \n",
    "    src_band = ds_temp.GetRasterBand(band_index+1)\n",
    "    src_band.SetMetadata(metadata)\n",
    "    src_band.SetDescription(band_names[band_index])  \n",
    "    \n",
    "ds_temp.FlushCache()\n"
   ]
  },
  {
   "cell_type": "markdown",
   "metadata": {},
   "source": [
    "Transform it to a Cloud Optimized GeoTIFF"
   ]
  },
  {
   "cell_type": "code",
   "execution_count": 38,
   "metadata": {},
   "outputs": [],
   "source": [
    "cog('temp_{0}.tif'.format(output_name),\n",
    "    '{0}.tif'.format(output_name))"
   ]
  },
  {
   "cell_type": "markdown",
   "metadata": {},
   "source": [
    "Create the results metadata"
   ]
  },
  {
   "cell_type": "code",
   "execution_count": 39,
   "metadata": {},
   "outputs": [],
   "source": [
    "for properties_file in ['result', output_name]:\n",
    "\n",
    "    date_format = '%Y-%m-%dT%H:%m:%SZ'\n",
    "    \n",
    "    if properties_file == 'result':\n",
    "        \n",
    "        title = 'Reproducibility notebook used for generating {0}'.format(output_name)\n",
    "   \n",
    "    else: \n",
    "      \n",
    "        title = 'Vegetation mask from {0} to {1}'.format(min_date.strftime(date_format),\n",
    "                                                         max_date.strftime(date_format))\n",
    "        \n",
    "    with open(properties_file + '.properties', 'wb') as file:\n",
    "        \n",
    "        file.write('title={0}\\n'.format(title))\n",
    "        \n",
    "        file.write('date={0}/{1}\\n'.format(min_date.strftime(date_format),\n",
    "                                           max_date.strftime(date_format)))\n",
    "        \n",
    "        file.write('geometry={0}'.format(get_image_wkt(output_name + '.tif')))"
   ]
  },
  {
   "cell_type": "markdown",
   "metadata": {},
   "source": [
    "#### Clean-up"
   ]
  },
  {
   "cell_type": "code",
   "execution_count": 40,
   "metadata": {},
   "outputs": [],
   "source": [
    "os.remove(clipped_vrt)\n",
    "os.remove(vrt)"
   ]
  },
  {
   "cell_type": "markdown",
   "metadata": {},
   "source": [
    "### License"
   ]
  },
  {
   "cell_type": "markdown",
   "metadata": {},
   "source": [
    "This work is licenced under a [Attribution-ShareAlike 4.0 International License (CC BY-SA 4.0)](http://creativecommons.org/licenses/by-sa/4.0/) \n",
    "\n",
    "YOU ARE FREE TO:\n",
    "\n",
    "* Share - copy and redistribute the material in any medium or format.\n",
    "* Adapt - remix, transform, and built upon the material for any purpose, even commercially.\n",
    "\n",
    "UNDER THE FOLLOWING TERMS:\n",
    "\n",
    "* Attribution - You must give appropriate credit, provide a link to the license, and indicate if changes were made. You may do so in any reasonable manner, but not in any way that suggests the licensor endorses you or your use.\n",
    "* ShareAlike - If you remix, transform, or build upon the material, you must distribute your contributions under the same license as the original."
   ]
  },
  {
   "cell_type": "code",
   "execution_count": null,
   "metadata": {},
   "outputs": [],
   "source": []
  }
 ],
 "metadata": {
  "kernelspec": {
   "display_name": "Python 2",
   "language": "python",
   "name": "python2"
  },
  "language_info": {
   "codemirror_mode": {
    "name": "ipython",
    "version": 2
   },
   "file_extension": ".py",
   "mimetype": "text/x-python",
   "name": "python",
   "nbconvert_exporter": "python",
   "pygments_lexer": "ipython2",
   "version": "2.7.12"
  }
 },
 "nbformat": 4,
 "nbformat_minor": 2
}
