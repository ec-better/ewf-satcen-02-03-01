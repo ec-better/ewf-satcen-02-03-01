{
 "cells": [
  {
   "cell_type": "markdown",
   "metadata": {},
   "source": [
    "## Sentinel-2 vegetation mask based on NDVI and BSI"
   ]
  },
  {
   "cell_type": "markdown",
   "metadata": {},
   "source": [
    "### Service Definition"
   ]
  },
  {
   "cell_type": "code",
   "execution_count": 1,
   "metadata": {
    "collapsed": true
   },
   "outputs": [],
   "source": [
    "service = dict([('title', 'Sentinel-2 vegetation mask based on NDVI and BSI'),\n",
    "                ('abstract', 'Sentinel-2 vegetation mask based on NDVI and BSI'),\n",
    "                ('id', 'ewf-s2-vegetation-mask')])"
   ]
  },
  {
   "cell_type": "markdown",
   "metadata": {},
   "source": [
    "**Number of classes**\n",
    "\n",
    "Number of modes, which will be used to generate class membership"
   ]
  },
  {
   "cell_type": "code",
   "execution_count": 2,
   "metadata": {
    "collapsed": false
   },
   "outputs": [],
   "source": [
    "n_classes = dict([('id', 'n_classes'),\n",
    "                  ('value', '1=-1#0,2=0#0.1,3=0.1#0.2,4=0.2#1'),\n",
    "                  ('title', 'Classes and ranges for NDVI'),\n",
    "                  ('abstract', 'Classes and ranges for NDVI (class_1=min#max,class_2=min#max)'),\n",
    "                  ('maxOccurs', '20')])"
   ]
  },
  {
   "cell_type": "code",
   "execution_count": 3,
   "metadata": {},
   "outputs": [],
   "source": [
    "b_classes = dict([('id', 'b_classes'),\n",
    "                  ('value', '1=-1#-0.2,2=-0.2#0.1,3=0.1#0.2,4=0.2#1'),\n",
    "                  ('title', 'Classes and ranges for BSI'),\n",
    "                  ('abstract', 'Classes and ranges for BSI (class_1=min#max,class_2=min#max)'),\n",
    "                  ('maxOccurs', '20')])"
   ]
  },
  {
   "cell_type": "code",
   "execution_count": 4,
   "metadata": {},
   "outputs": [],
   "source": [
    "ndvi_threshold = dict([('id', 'ndvi_threshold'),\n",
    "                   ('value', '0.3'),\n",
    "                   ('title', 'NDVI threshold for the mask expression'),\n",
    "                   ('abstract', 'NDVI threshold for the mask expression'),\n",
    "                   ('maxOccurs', '1')])"
   ]
  },
  {
   "cell_type": "code",
   "execution_count": 5,
   "metadata": {},
   "outputs": [],
   "source": [
    "bsi_threshold = dict([('id', 'bsi_threshold'),\n",
    "                   ('value', '0'),\n",
    "                   ('title', 'BSI threshold'),\n",
    "                   ('abstract', 'BSI threshold'),\n",
    "                   ('maxOccurs', '1')])"
   ]
  },
  {
   "cell_type": "code",
   "execution_count": 6,
   "metadata": {},
   "outputs": [],
   "source": [
    "aoi = dict([('id', 'aoi'),\n",
    "              ('title', 'Area of interest'),\n",
    "              ('abstract', 'Area of interest'),\n",
    "              ('value', '-70.5659,-13.0922,-69.1411,-12.4567')])"
   ]
  },
  {
   "cell_type": "code",
   "execution_count": 7,
   "metadata": {},
   "outputs": [],
   "source": [
    "username = dict([('id', '_T2Username'),\n",
    "              ('title', 'Ellip username'),\n",
    "              ('abstract', 'Ellip username'),\n",
    "              ('value', '')])"
   ]
  },
  {
   "cell_type": "code",
   "execution_count": 8,
   "metadata": {},
   "outputs": [],
   "source": [
    "api_key = dict([('id', '_T2ApiKey'),\n",
    "              ('title', 'Ellip API key for data pipeline'),\n",
    "              ('abstract', 'Ellip API key for data pipeline'),\n",
    "              ('value', '')])"
   ]
  },
  {
   "cell_type": "markdown",
   "metadata": {},
   "source": [
    "### <a name=\"runtime\">Runtime parameter definition"
   ]
  },
  {
   "cell_type": "markdown",
   "metadata": {},
   "source": [
    "**Input reference**\n",
    "\n",
    "This is the Sentinel-2 catalogue entry URLs"
   ]
  },
  {
   "cell_type": "code",
   "execution_count": 10,
   "metadata": {},
   "outputs": [],
   "source": [
    "input_references = []"
   ]
  },
  {
   "cell_type": "markdown",
   "metadata": {},
   "source": [
    "### Workflow"
   ]
  },
  {
   "cell_type": "markdown",
   "metadata": {},
   "source": [
    "#### Import the packages required for processing the data"
   ]
  },
  {
   "cell_type": "code",
   "execution_count": 11,
   "metadata": {
    "collapsed": true
   },
   "outputs": [],
   "source": [
    "import os\n",
    "import sys\n",
    "\n",
    "sys.path.append('/application/notebook/libexec/') \n",
    "sys.path.append(os.getcwd())\n",
    "from helpers import *\n",
    "%load_ext autoreload\n",
    "%autoreload 2\n",
    "\n",
    "\n",
    "sys.path.append('/opt/OTB/lib/python')\n",
    "sys.path.append('/opt/OTB/lib/libfftw3.so.3')\n",
    "os.environ['OTB_APPLICATION_PATH'] = '/opt/OTB/lib/otb/applications'\n",
    "os.environ['LD_LIBRARY_PATH'] = '/opt/OTB/lib'\n",
    "os.environ['ITK_AUTOLOAD_PATH'] = '/opt/OTB/lib/otb/applications'\n",
    "os.environ['GDAL_DATA'] = '/opt/anaconda/share/gdal/'\n",
    "import otbApplication\n",
    "import gdal\n",
    "\n",
    "gdal.UseExceptions()"
   ]
  },
  {
   "cell_type": "code",
   "execution_count": 12,
   "metadata": {},
   "outputs": [],
   "source": [
    "product_metadata = get_product_metadata(input_references, \n",
    "                                        username['value'],\n",
    "                                        api_key['value'])"
   ]
  },
  {
   "cell_type": "code",
   "execution_count": 13,
   "metadata": {},
   "outputs": [
    {
     "data": {
      "text/html": [
       "<div>\n",
       "<style scoped>\n",
       "    .dataframe tbody tr th:only-of-type {\n",
       "        vertical-align: middle;\n",
       "    }\n",
       "\n",
       "    .dataframe tbody tr th {\n",
       "        vertical-align: top;\n",
       "    }\n",
       "\n",
       "    .dataframe thead th {\n",
       "        text-align: right;\n",
       "    }\n",
       "</style>\n",
       "<table border=\"1\" class=\"dataframe\">\n",
       "  <thead>\n",
       "    <tr style=\"text-align: right;\">\n",
       "      <th></th>\n",
       "      <th>cc</th>\n",
       "      <th>enclosure</th>\n",
       "      <th>enddate</th>\n",
       "      <th>identifier</th>\n",
       "      <th>platform</th>\n",
       "      <th>self</th>\n",
       "      <th>startdate</th>\n",
       "      <th>track</th>\n",
       "      <th>wkt</th>\n",
       "      <th>geometry</th>\n",
       "    </tr>\n",
       "  </thead>\n",
       "  <tbody>\n",
       "    <tr>\n",
       "      <th>0</th>\n",
       "      <td>62.384787</td>\n",
       "      <td>https://store.terradue.com/ard-s2-boa-reflecta...</td>\n",
       "      <td>2019-09-07 14:57:29.024</td>\n",
       "      <td>11D2917F71F9DA03998978645FFBD2135C9C70BF</td>\n",
       "      <td>S2B</td>\n",
       "      <td>https://catalog.terradue.com/ard-s2-boa-reflec...</td>\n",
       "      <td>2019-09-07 14:57:29.024</td>\n",
       "      <td>39</td>\n",
       "      <td>POLYGON((-70.835297389016 -12.7511412207275,-6...</td>\n",
       "      <td>POLYGON ((-70.83529738901601 -12.7511412207275...</td>\n",
       "    </tr>\n",
       "    <tr>\n",
       "      <th>1</th>\n",
       "      <td>99.962690</td>\n",
       "      <td>https://store.terradue.com/ard-s2-boa-reflecta...</td>\n",
       "      <td>2019-09-07 14:57:29.024</td>\n",
       "      <td>5A584E95852728AD1EDC1683B7211CEF272B8B1E</td>\n",
       "      <td>S2B</td>\n",
       "      <td>https://catalog.terradue.com/ard-s2-boa-reflec...</td>\n",
       "      <td>2019-09-07 14:57:29.024</td>\n",
       "      <td>39</td>\n",
       "      <td>POLYGON((-69.9181391041721 -12.7524314684136,-...</td>\n",
       "      <td>POLYGON ((-69.9181391041721 -12.7524314684136,...</td>\n",
       "    </tr>\n",
       "    <tr>\n",
       "      <th>2</th>\n",
       "      <td>91.178170</td>\n",
       "      <td>https://store.terradue.com/ard-s2-boa-reflecta...</td>\n",
       "      <td>2019-09-07 14:57:29.024</td>\n",
       "      <td>6190DE5C56AD4AAAAF61290088773211B4626D10</td>\n",
       "      <td>S2B</td>\n",
       "      <td>https://catalog.terradue.com/ard-s2-boa-reflec...</td>\n",
       "      <td>2019-09-07 14:57:29.024</td>\n",
       "      <td>39</td>\n",
       "      <td>POLYGON((-69.9212607569422 -13.6568683838856,-...</td>\n",
       "      <td>POLYGON ((-69.9212607569422 -13.6568683838856,...</td>\n",
       "    </tr>\n",
       "  </tbody>\n",
       "</table>\n",
       "</div>"
      ],
      "text/plain": [
       "          cc                                          enclosure  \\\n",
       "0  62.384787  https://store.terradue.com/ard-s2-boa-reflecta...   \n",
       "1  99.962690  https://store.terradue.com/ard-s2-boa-reflecta...   \n",
       "2  91.178170  https://store.terradue.com/ard-s2-boa-reflecta...   \n",
       "\n",
       "                  enddate                                identifier platform  \\\n",
       "0 2019-09-07 14:57:29.024  11D2917F71F9DA03998978645FFBD2135C9C70BF      S2B   \n",
       "1 2019-09-07 14:57:29.024  5A584E95852728AD1EDC1683B7211CEF272B8B1E      S2B   \n",
       "2 2019-09-07 14:57:29.024  6190DE5C56AD4AAAAF61290088773211B4626D10      S2B   \n",
       "\n",
       "                                                self               startdate  \\\n",
       "0  https://catalog.terradue.com/ard-s2-boa-reflec... 2019-09-07 14:57:29.024   \n",
       "1  https://catalog.terradue.com/ard-s2-boa-reflec... 2019-09-07 14:57:29.024   \n",
       "2  https://catalog.terradue.com/ard-s2-boa-reflec... 2019-09-07 14:57:29.024   \n",
       "\n",
       "  track                                                wkt  \\\n",
       "0    39  POLYGON((-70.835297389016 -12.7511412207275,-6...   \n",
       "1    39  POLYGON((-69.9181391041721 -12.7524314684136,-...   \n",
       "2    39  POLYGON((-69.9212607569422 -13.6568683838856,-...   \n",
       "\n",
       "                                            geometry  \n",
       "0  POLYGON ((-70.83529738901601 -12.7511412207275...  \n",
       "1  POLYGON ((-69.9181391041721 -12.7524314684136,...  \n",
       "2  POLYGON ((-69.9212607569422 -13.6568683838856,...  "
      ]
     },
     "execution_count": 13,
     "metadata": {},
     "output_type": "execute_result"
    }
   ],
   "source": [
    "product_metadata"
   ]
  },
  {
   "cell_type": "code",
   "execution_count": 14,
   "metadata": {},
   "outputs": [],
   "source": [
    "min_date = min(product_metadata['startdate'])\n",
    "max_date = max(product_metadata['enddate'])"
   ]
  },
  {
   "cell_type": "code",
   "execution_count": null,
   "metadata": {},
   "outputs": [],
   "source": []
  },
  {
   "cell_type": "markdown",
   "metadata": {},
   "source": [
    "#### Area of interest"
   ]
  },
  {
   "cell_type": "code",
   "execution_count": 15,
   "metadata": {},
   "outputs": [],
   "source": [
    "x_min, y_min, x_max, y_max = [float(c) for c in aoi['value'].split(',')]"
   ]
  },
  {
   "cell_type": "code",
   "execution_count": 16,
   "metadata": {},
   "outputs": [
    {
     "data": {
      "text/plain": [
       "(-70.5659, -13.0922, -69.1411, -12.4567)"
      ]
     },
     "execution_count": 16,
     "metadata": {},
     "output_type": "execute_result"
    }
   ],
   "source": [
    "x_min, y_min, x_max, y_max"
   ]
  },
  {
   "cell_type": "markdown",
   "metadata": {},
   "source": [
    "#### Input vsi URLs\n",
    "\n",
    "Use the Sentinel-2 ARD using GDAL Virtual File System"
   ]
  },
  {
   "cell_type": "code",
   "execution_count": 17,
   "metadata": {},
   "outputs": [
    {
     "name": "stdout",
     "output_type": "stream",
     "text": [
      "39\n",
      "['https://catalog.terradue.com/ard-s2-boa-reflectances/search?format=atom&uid=11D2917F71F9DA03998978645FFBD2135C9C70BF', 'https://catalog.terradue.com/ard-s2-boa-reflectances/search?format=atom&uid=5A584E95852728AD1EDC1683B7211CEF272B8B1E', 'https://catalog.terradue.com/ard-s2-boa-reflectances/search?format=atom&uid=6190DE5C56AD4AAAAF61290088773211B4626D10']\n",
      "1 B01\n",
      "2 B02\n",
      "3 B03\n",
      "4 B04\n",
      "5 B05\n",
      "6 B06\n",
      "7 B07\n",
      "8 B08\n",
      "9 B8A\n",
      "10 B09\n",
      "11 B11\n",
      "12 B12\n",
      "13 SCL\n",
      "14 MSK_CLDPRB\n",
      "15 MSK_SNWPRB\n"
     ]
    }
   ],
   "source": [
    "daily_products = []\n",
    "\n",
    "for track in product_metadata.track.unique():\n",
    "\n",
    "    print(track)\n",
    "    input_references = list(product_metadata[product_metadata.track == track].self.values)\n",
    "    \n",
    "    print(input_references)\n",
    "\n",
    "    output_name = str(track)\n",
    "    \n",
    "    pre_proces(input_references, \n",
    "               [x_min, y_min, x_max, y_max],\n",
    "               ndvi_threshold['value'],\n",
    "               bsi_threshold['value'],\n",
    "               n_classes['value'], \n",
    "               b_classes['value'], \n",
    "               output_name, \n",
    "               username['value'], \n",
    "               api_key['value'])\n",
    "    \n",
    "    daily_products.append(output_name)"
   ]
  },
  {
   "cell_type": "code",
   "execution_count": 18,
   "metadata": {},
   "outputs": [],
   "source": [
    "ndvi_classes = dict((int(k.strip()), v.strip().replace('#', ',')) for k,v in  \n",
    "                             (item.split('=') for item in n_classes['value'].split(',')))"
   ]
  },
  {
   "cell_type": "code",
   "execution_count": 19,
   "metadata": {},
   "outputs": [],
   "source": [
    "bsi_classes = dict((int(k.strip()), v.strip().replace('#', ',')) for k,v in  \n",
    "                             (item.split('=') for item in b_classes['value'].split(',')))"
   ]
  },
  {
   "cell_type": "code",
   "execution_count": 20,
   "metadata": {},
   "outputs": [
    {
     "name": "stdout",
     "output_type": "stream",
     "text": [
      "(im1b1 == 128) ? 128 : (im1b1 == 1) ? 1 : (im1b1 == 2) ? 2 : (im1b1 == 3) ? 3 : (im1b1 == 4) ? 4 : 255\n",
      "NDVI_CLASS_20190907T140929_20190907T140929.tif\n",
      "['0_39.tif']\n",
      "(im1b1 == 128) ? 128 : (im1b1 == 1) ? 1 : (im1b1 == 2) ? 2 : (im1b1 == 3) ? 3 : (im1b1 == 4) ? 4 : 255\n",
      "BSI_CLASS_20190907T140929_20190907T140929.tif\n",
      "['1_39.tif']\n",
      "(im1b1 == 128) ? 128 : (im1b1 == 0) ? 0 : 255\n",
      "MASK_20190907T140929_20190907T140929.tif\n",
      "['2_39.tif']\n",
      "(im1b1 == 128) ? 128 : (im1b1 == 10) ? 10 : (im1b1 == 20) ? 20 : 255\n",
      "VEGETATION_MASK_20190907T140929_20190907T140929.tif\n",
      "['3_39.tif']\n"
     ]
    }
   ],
   "source": [
    "prefix = ['NDVI_CLASS',\n",
    "         'BSI_CLASS',\n",
    "         'MASK',\n",
    "         'VEGETATION_MASK']\n",
    "\n",
    "for index, c in enumerate([ndvi_classes.keys(), bsi_classes.keys(), [0], [10, 20]]):\n",
    "    \n",
    "    expression = get_mosaic_expression(128, len(product_metadata.track.unique()), c)\n",
    "    print expression\n",
    "    date_format = '%Y%m%dT%H%m%S'\n",
    "    \n",
    "    output_name = '{0}_{1}_{2}.tif'.format(prefix[index], \n",
    "                                           min_date.strftime(date_format),\n",
    "                                           max_date.strftime(date_format))\n",
    "    \n",
    "    daily_products = ['{}_{}.tif'.format(index, track) for track in product_metadata.track.unique()] \n",
    "    \n",
    "    print output_name\n",
    "    print daily_products\n",
    "    \n",
    "    \n",
    "    BandMathX = otbApplication.Registry.CreateApplication('BandMathX')\n",
    "\n",
    "    BandMathX.SetParameterStringList('il', daily_products)\n",
    "    BandMathX.SetParameterString('out', 'temp_{0}'.format(output_name))\n",
    "    BandMathX.SetParameterString('exp', expression)\n",
    "    BandMathX.SetParameterOutputImagePixelType('out', otbApplication.ImagePixelType_uint8)\n",
    "\n",
    "    BandMathX.ExecuteAndWriteOutput()\n",
    "\n",
    "    cog('temp_{0}'.format(output_name),\n",
    "        output_name)\n",
    "\n",
    "    date_format = '%Y-%m-%dT%H:%m:%SZ'\n",
    "        \n",
    "    with open(output_name.replace('.tif', '.properties'), 'wb') as file:\n",
    "        \n",
    "        file.write('title={0} {1} {2}\\n'.format(prefix[index], \n",
    "                                           min_date.strftime(date_format),\n",
    "                                           max_date.strftime(date_format)))\n",
    "        \n",
    "        file.write('date={0}/{1}\\n'.format(min_date.strftime(date_format),\n",
    "                                           max_date.strftime(date_format)))\n",
    "        \n",
    "        file.write('geometry={0}'.format(get_image_wkt(output_name)))\n",
    "        \n",
    "    for prd in daily_products:\n",
    "        os.remove(prd)\n",
    "        os.remove(prd + '.aux.xml')"
   ]
  },
  {
   "cell_type": "markdown",
   "metadata": {},
   "source": [
    "### License"
   ]
  },
  {
   "cell_type": "markdown",
   "metadata": {},
   "source": [
    "This work is licenced under a [Attribution-ShareAlike 4.0 International License (CC BY-SA 4.0)](http://creativecommons.org/licenses/by-sa/4.0/) \n",
    "\n",
    "YOU ARE FREE TO:\n",
    "\n",
    "* Share - copy and redistribute the material in any medium or format.\n",
    "* Adapt - remix, transform, and built upon the material for any purpose, even commercially.\n",
    "\n",
    "UNDER THE FOLLOWING TERMS:\n",
    "\n",
    "* Attribution - You must give appropriate credit, provide a link to the license, and indicate if changes were made. You may do so in any reasonable manner, but not in any way that suggests the licensor endorses you or your use.\n",
    "* ShareAlike - If you remix, transform, or build upon the material, you must distribute your contributions under the same license as the original."
   ]
  },
  {
   "cell_type": "markdown",
   "metadata": {},
   "source": [
    "### License"
   ]
  },
  {
   "cell_type": "markdown",
   "metadata": {},
   "source": [
    "This work is licenced under a [Attribution-ShareAlike 4.0 International License (CC BY-SA 4.0)](http://creativecommons.org/licenses/by-sa/4.0/) \n",
    "\n",
    "YOU ARE FREE TO:\n",
    "\n",
    "* Share - copy and redistribute the material in any medium or format.\n",
    "* Adapt - remix, transform, and built upon the material for any purpose, even commercially.\n",
    "\n",
    "UNDER THE FOLLOWING TERMS:\n",
    "\n",
    "* Attribution - You must give appropriate credit, provide a link to the license, and indicate if changes were made. You may do so in any reasonable manner, but not in any way that suggests the licensor endorses you or your use.\n",
    "* ShareAlike - If you remix, transform, or build upon the material, you must distribute your contributions under the same license as the original."
   ]
  },
  {
   "cell_type": "code",
   "execution_count": null,
   "metadata": {},
   "outputs": [],
   "source": []
  }
 ],
 "metadata": {
  "kernelspec": {
   "display_name": "Python 2",
   "language": "python",
   "name": "python2"
  },
  "language_info": {
   "codemirror_mode": {
    "name": "ipython",
    "version": 2
   },
   "file_extension": ".py",
   "mimetype": "text/x-python",
   "name": "python",
   "nbconvert_exporter": "python",
   "pygments_lexer": "ipython2",
   "version": "2.7.13"
  }
 },
 "nbformat": 4,
 "nbformat_minor": 2
}
